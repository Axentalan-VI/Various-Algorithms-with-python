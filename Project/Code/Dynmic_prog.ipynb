{
 "cells": [
  {
   "cell_type": "code",
   "execution_count": 31,
   "metadata": {},
   "outputs": [],
   "source": [
    "import string\n",
    "from math import inf\n",
    "alphabet = list(string.ascii_uppercase)\n"
   ]
  },
  {
   "cell_type": "code",
   "execution_count": 32,
   "metadata": {},
   "outputs": [],
   "source": [
    "class Graph:\n",
    "    def __init__(self,num_nodes):\n",
    "        self.adjMatrix = []\n",
    "        self.num_nodes= num_nodes\n",
    "        for i in range(num_nodes):\n",
    "            self.adjMatrix.append([inf for i in range(num_nodes)])\n",
    "            \n",
    "    def setAdjMatrix(self,adjMatrix):\n",
    "        self.adjMatrix=adjMatrix\n",
    "    \n",
    "    def getAdjMatrix(self):\n",
    "        return self.adjMatrix\n",
    "       \n",
    "  \n"
   ]
  },
  {
   "cell_type": "code",
   "execution_count": 51,
   "metadata": {},
   "outputs": [],
   "source": [
    "def floyd(graph):\n",
    "    if isinstance(graph,Graph):\n",
    "        n = graph.num_nodes\n",
    "        dist_edges=graph.getAdjMatrix()\n",
    "        for k in range(n):\n",
    "            for i in range(n):\n",
    "                for j in range(n):\n",
    "                    dist_edges[i][j] = min(dist_edges[i][j], dist_edges[i][k] + dist_edges[k][j])\n",
    "        printMatrix(dist_edges)\n",
    "        return(dist_edges)\n",
    "\n",
    "def printMatrix(matrix):\n",
    "    txt=\"   \"\n",
    "    for i in range(len(matrix)):\n",
    "       txt+=alphabet[i]+\"  \"\n",
    "    print(txt)\n",
    "    for i in range(len(matrix)):\n",
    "        print(alphabet[i]+\" \"+str(matrix[i]))"
   ]
  },
  {
   "cell_type": "code",
   "execution_count": 52,
   "metadata": {},
   "outputs": [
    {
     "name": "stdout",
     "output_type": "stream",
     "text": [
      "   A  B  C  D  \n",
      "A [0, 3, 7, 5]\n",
      "B [2, 0, 6, 4]\n",
      "C [3, 1, 0, 5]\n",
      "D [5, 3, 2, 0]\n"
     ]
    }
   ],
   "source": [
    "\n",
    "graph = Graph(4)\n",
    "adjmatrix = [[0, 3, inf, 5],\n",
    "     [2, 0, inf, 4],\n",
    "     [inf, 1, 0, inf],\n",
    "     [inf, inf, 2, 0]]\n",
    "\n",
    "graph.setAdjMatrix(adjmatrix)\n",
    "matrix = floyd(graph)\n",
    "\n",
    "\n"
   ]
  }
 ],
 "metadata": {
  "kernelspec": {
   "display_name": "Python 3",
   "language": "python",
   "name": "python3"
  },
  "language_info": {
   "codemirror_mode": {
    "name": "ipython",
    "version": 3
   },
   "file_extension": ".py",
   "mimetype": "text/x-python",
   "name": "python",
   "nbconvert_exporter": "python",
   "pygments_lexer": "ipython3",
   "version": "3.10.8"
  },
  "orig_nbformat": 4
 },
 "nbformat": 4,
 "nbformat_minor": 2
}
