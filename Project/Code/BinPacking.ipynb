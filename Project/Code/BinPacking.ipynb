{
 "cells": [
  {
   "cell_type": "code",
   "execution_count": 12,
   "metadata": {},
   "outputs": [],
   "source": [
    "def first_fit(bins, pack_size):\n",
    "    packs = [[]]\n",
    "    for bin in bins:\n",
    "        pack_flag = False\n",
    "        for pack in packs:\n",
    "            if sum(pack) + bin <= pack_size:\n",
    "                pack.append(bin)\n",
    "                pack_flag = True\n",
    "                break\n",
    "        if not pack_flag:\n",
    "            packs.append([bin])\n",
    "    return packs\n"
   ]
  },
  {
   "cell_type": "code",
   "execution_count": 13,
   "metadata": {},
   "outputs": [],
   "source": [
    "def offline_first_fit(bins, pack_size):\n",
    "    packs = [[]]\n",
    "    for bin in sorted(bins, reverse=True):\n",
    "        for pack in packs:\n",
    "            if sum(pack) + bin <= pack_size:\n",
    "                pack.append(bin)\n",
    "                break\n",
    "        else:\n",
    "            packs.append([bin])\n",
    "    return packs\n"
   ]
  },
  {
   "cell_type": "code",
   "execution_count": 14,
   "metadata": {},
   "outputs": [
    {
     "name": "stdout",
     "output_type": "stream",
     "text": [
      "Packs Requierd : 5\n",
      "Pack 1 : [0.5, 0.5]\n",
      "Pack 2 : [0.7, 0.2, 0.1]\n",
      "Pack 3 : [0.4, 0.2]\n",
      "Pack 4 : [0.5]\n",
      "Pack 5 : [0.6]\n",
      "Packs Requierd : 4\n",
      "Pack 1 : [0.7, 0.2, 0.1]\n",
      "Pack 2 : [0.6, 0.4]\n",
      "Pack 3 : [0.5, 0.5]\n",
      "Pack 4 : [0.5, 0.2]\n"
     ]
    }
   ],
   "source": [
    "bins = [0.5, 0.7, 0.5, 0.2, 0.4, 0.2, 0.5, 0.1, 0.6]\n",
    "packs = first_fit(bins, 1)\n",
    "\n",
    "\n",
    "print(\"Packs Requierd : \"+str(len(packs)))\n",
    "for i in range(len(packs)):\n",
    "    print(\"Pack \"+str(i+1)+\" : \"+str(packs[i]))\n",
    "    \n",
    "packs = offline_first_fit(bins, 1)\n",
    "    \n",
    "    \n",
    "print(\"Packs Requierd : \"+str(len(packs)))\n",
    "for i in range(len(packs)):\n",
    "    print(\"Pack \"+str(i+1)+\" : \"+str(packs[i]))\n",
    "\n"
   ]
  }
 ],
 "metadata": {
  "kernelspec": {
   "display_name": "Python 3",
   "language": "python",
   "name": "python3"
  },
  "language_info": {
   "codemirror_mode": {
    "name": "ipython",
    "version": 3
   },
   "file_extension": ".py",
   "mimetype": "text/x-python",
   "name": "python",
   "nbconvert_exporter": "python",
   "pygments_lexer": "ipython3",
   "version": "3.10.8"
  },
  "orig_nbformat": 4
 },
 "nbformat": 4,
 "nbformat_minor": 2
}
