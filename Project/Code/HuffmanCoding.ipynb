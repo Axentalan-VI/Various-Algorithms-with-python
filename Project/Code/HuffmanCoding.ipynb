{
 "cells": [
  {
   "cell_type": "code",
   "execution_count": 25,
   "metadata": {},
   "outputs": [],
   "source": [
    "class Node():\n",
    "    \n",
    "    def __init__(self,symbol,weight):\n",
    "        self.symbol=symbol\n",
    "        self.weight=weight\n",
    "        self.left=None\n",
    "        self.right=None\n",
    "        \n",
    "    def __str__(self):\n",
    "        return self.symbol+\" \"+str(self.weight)\n",
    "    \n",
    "    def isLeaf(self):\n",
    "        return self.left is None and self.right is None\n",
    "\n",
    "        \n",
    "        "
   ]
  },
  {
   "cell_type": "code",
   "execution_count": 26,
   "metadata": {},
   "outputs": [],
   "source": [
    "\n",
    "def huffman_tree(symbol_weights):\n",
    "    \n",
    "    if symbol_weights is None:\n",
    "        return \n",
    "    nodes = [Node(symbol, weight) for symbol, weight in symbol_weights.items()]\n",
    "    while len(nodes) > 1:\n",
    "        nodes.sort(key=lambda item: item.weight)\n",
    "        node1 = nodes[0]\n",
    "        node2 = nodes[1]\n",
    "        new_node = Node(\"\", node1.weight+node2.weight)\n",
    "        new_node.left = node1\n",
    "        new_node.right = node2\n",
    "        nodes.pop(0)\n",
    "        nodes.pop(0)\n",
    "        nodes.append(new_node)\n",
    "    return nodes[0]\n"
   ]
  },
  {
   "cell_type": "code",
   "execution_count": 27,
   "metadata": {},
   "outputs": [],
   "source": [
    "def encode(node,prefix=\"\",code={}):\n",
    "    if node is None:\n",
    "        return\n",
    "    if node.isLeaf():\n",
    "        code[node.symbol]=prefix\n",
    "        return\n",
    "    \n",
    "    encode(node.left,prefix+\"0\",code)\n",
    "    encode(node.right,prefix+\"1\",code)\n",
    "    "
   ]
  },
  {
   "cell_type": "code",
   "execution_count": 28,
   "metadata": {},
   "outputs": [],
   "source": [
    "def huffman_encode(text):\n",
    "    symbol_weights = {}\n",
    "    for char in text:\n",
    "        symbol_weights[char] = symbol_weights.get(char, 0) + 1\n",
    "    root = huffman_tree(symbol_weights)\n",
    "    if root is None:\n",
    "        return\n",
    "    dict_code = {}\n",
    "    encode(root, code=dict_code)\n",
    "    encoded_text = \"\".join([dict_code[symbol] for symbol in text])\n",
    "    return encoded_text , dict_code\n",
    "\n",
    "\n",
    "def huffman_decode(encoded_text, code_dict):\n",
    "    code = \"\"\n",
    "    decoded_text = \"\"\n",
    "    for i in encoded_text:\n",
    "        code += i\n",
    "        for j in code_dict:\n",
    "            if code_dict[j] == code:\n",
    "                decoded_text += j\n",
    "                code = \"\"\n",
    "    return decoded_text\n"
   ]
  },
  {
   "cell_type": "code",
   "execution_count": 29,
   "metadata": {},
   "outputs": [
    {
     "name": "stdout",
     "output_type": "stream",
     "text": [
      "Orginal Text : why be greedy?\n",
      "Encoded Text : 101010110111001100001001101111000001111011010\n",
      "Dictionary Code : {'e': '00', '?': '010', 'y': '011', ' ': '100', 'w': '1010', 'h': '1011', 'b': '1100', 'g': '1101', 'r': '1110', 'd': '1111'}\n",
      "Decoded Text : why be greedy?\n"
     ]
    }
   ],
   "source": [
    "text = str(input())\n",
    "encoded_text,dict_code = huffman_encode(text)\n",
    "decoded_text=huffman_decode(encoded_text,dict_code)\n",
    "\n",
    "print(\"Orginal Text : \"+text)\n",
    "print(\"Encoded Text : \"+encoded_text)\n",
    "print(\"Dictionary Code : \"+str(dict_code))\n",
    "print(\"Decoded Text : \"+decoded_text)\n",
    "\n",
    "\n"
   ]
  }
 ],
 "metadata": {
  "kernelspec": {
   "display_name": "Python 3",
   "language": "python",
   "name": "python3"
  },
  "language_info": {
   "codemirror_mode": {
    "name": "ipython",
    "version": 3
   },
   "file_extension": ".py",
   "mimetype": "text/x-python",
   "name": "python",
   "nbconvert_exporter": "python",
   "pygments_lexer": "ipython3",
   "version": "3.10.8"
  },
  "orig_nbformat": 4
 },
 "nbformat": 4,
 "nbformat_minor": 2
}
